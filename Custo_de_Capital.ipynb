{
  "nbformat": 4,
  "nbformat_minor": 0,
  "metadata": {
    "colab": {
      "name": "Custo de Capital.ipynb",
      "provenance": [],
      "collapsed_sections": [
        "VDABlmKuSKzT"
      ],
      "toc_visible": true
    },
    "kernelspec": {
      "name": "python3",
      "display_name": "Python 3"
    },
    "language_info": {
      "name": "python"
    }
  },
  "cells": [
    {
      "cell_type": "code",
      "source": [
        "pip install yfinance"
      ],
      "metadata": {
        "id": "wODGoY_WGyDz",
        "colab": {
          "base_uri": "https://localhost:8080/"
        },
        "outputId": "5132e82a-3845-41d1-ec10-61f11f9ca649"
      },
      "execution_count": 1,
      "outputs": [
        {
          "output_type": "stream",
          "name": "stdout",
          "text": [
            "Collecting yfinance\n",
            "  Downloading yfinance-0.1.70-py2.py3-none-any.whl (26 kB)\n",
            "Requirement already satisfied: multitasking>=0.0.7 in /usr/local/lib/python3.7/dist-packages (from yfinance) (0.0.10)\n",
            "Requirement already satisfied: numpy>=1.15 in /usr/local/lib/python3.7/dist-packages (from yfinance) (1.21.5)\n",
            "Collecting requests>=2.26\n",
            "  Downloading requests-2.27.1-py2.py3-none-any.whl (63 kB)\n",
            "\u001b[K     |████████████████████████████████| 63 kB 877 kB/s \n",
            "\u001b[?25hRequirement already satisfied: pandas>=0.24.0 in /usr/local/lib/python3.7/dist-packages (from yfinance) (1.3.5)\n",
            "Collecting lxml>=4.5.1\n",
            "  Downloading lxml-4.8.0-cp37-cp37m-manylinux_2_17_x86_64.manylinux2014_x86_64.manylinux_2_24_x86_64.whl (6.4 MB)\n",
            "\u001b[K     |████████████████████████████████| 6.4 MB 49.1 MB/s \n",
            "\u001b[?25hRequirement already satisfied: pytz>=2017.3 in /usr/local/lib/python3.7/dist-packages (from pandas>=0.24.0->yfinance) (2018.9)\n",
            "Requirement already satisfied: python-dateutil>=2.7.3 in /usr/local/lib/python3.7/dist-packages (from pandas>=0.24.0->yfinance) (2.8.2)\n",
            "Requirement already satisfied: six>=1.5 in /usr/local/lib/python3.7/dist-packages (from python-dateutil>=2.7.3->pandas>=0.24.0->yfinance) (1.15.0)\n",
            "Requirement already satisfied: idna<4,>=2.5 in /usr/local/lib/python3.7/dist-packages (from requests>=2.26->yfinance) (2.10)\n",
            "Requirement already satisfied: charset-normalizer~=2.0.0 in /usr/local/lib/python3.7/dist-packages (from requests>=2.26->yfinance) (2.0.12)\n",
            "Requirement already satisfied: certifi>=2017.4.17 in /usr/local/lib/python3.7/dist-packages (from requests>=2.26->yfinance) (2021.10.8)\n",
            "Requirement already satisfied: urllib3<1.27,>=1.21.1 in /usr/local/lib/python3.7/dist-packages (from requests>=2.26->yfinance) (1.24.3)\n",
            "Installing collected packages: requests, lxml, yfinance\n",
            "  Attempting uninstall: requests\n",
            "    Found existing installation: requests 2.23.0\n",
            "    Uninstalling requests-2.23.0:\n",
            "      Successfully uninstalled requests-2.23.0\n",
            "  Attempting uninstall: lxml\n",
            "    Found existing installation: lxml 4.2.6\n",
            "    Uninstalling lxml-4.2.6:\n",
            "      Successfully uninstalled lxml-4.2.6\n",
            "\u001b[31mERROR: pip's dependency resolver does not currently take into account all the packages that are installed. This behaviour is the source of the following dependency conflicts.\n",
            "google-colab 1.0.0 requires requests~=2.23.0, but you have requests 2.27.1 which is incompatible.\n",
            "datascience 0.10.6 requires folium==0.2.1, but you have folium 0.8.3 which is incompatible.\u001b[0m\n",
            "Successfully installed lxml-4.8.0 requests-2.27.1 yfinance-0.1.70\n"
          ]
        }
      ]
    },
    {
      "cell_type": "code",
      "source": [
        "pip install ipeadatapy"
      ],
      "metadata": {
        "id": "XEqBvftcVvAA",
        "colab": {
          "base_uri": "https://localhost:8080/"
        },
        "outputId": "1cd6c632-73ac-46f9-d44a-24c839a361ce"
      },
      "execution_count": 2,
      "outputs": [
        {
          "output_type": "stream",
          "name": "stdout",
          "text": [
            "Collecting ipeadatapy\n",
            "  Downloading ipeadatapy-0.1.7-py3-none-any.whl (9.8 kB)\n",
            "Installing collected packages: ipeadatapy\n",
            "Successfully installed ipeadatapy-0.1.7\n"
          ]
        }
      ]
    },
    {
      "cell_type": "code",
      "metadata": {
        "id": "veEOh8HGBcv1"
      },
      "source": [
        "import pandas as pd\n",
        "import pandas_datareader.data as web\n",
        "import numpy as np\n",
        "from sklearn.linear_model import LinearRegression\n",
        "import datetime\n",
        "import re\n",
        "import yfinance as yf\n",
        "import ipeadatapy as ipea"
      ],
      "execution_count": 3,
      "outputs": []
    },
    {
      "cell_type": "markdown",
      "metadata": {
        "id": "e7U28uT1PHBM"
      },
      "source": [
        "# Introdução\n",
        "\n",
        "O objetivo deste módulo é dispor sobre a metodologia de cálculo do Custo de\n",
        "Capital nos processos de Revisão Tarifária Periódica – RTP da concessionária dos serviços públicos de abastecimento de água e esgotamento sanitário do Distrito Federal."
      ]
    },
    {
      "cell_type": "markdown",
      "source": [
        "# Metodologia"
      ],
      "metadata": {
        "id": "69K9PH6QVEbb"
      }
    },
    {
      "cell_type": "markdown",
      "metadata": {
        "id": "VDABlmKuSKzT"
      },
      "source": [
        "## Estrutura de Capital\n",
        "\n",
        "A estrutura de capital regulatória é definida pela participação de capital próprio e de capital de terceiros na concessionária. É utilizada para o cálculo do Custo de Capital.\n",
        "\n",
        "### Cálculo do Capiral Prórpio\n",
        "\n",
        "O Capital Próprio (CP) será a média do Patrimônio Líquido da Caesb, dos últimos 4 exercícios, obtida das demonstrações contábeis publicadas pela empresa, em data prévia mais próxima ao último dia útil do ano imediatamente anterior à RTP em processamento. \n",
        "\n",
        "### Cálculo do Capital de Terceiros\n",
        "O Capital de Terceiros (CT) da Caesb será a média, dos últimos 4 exercícios, da soma de todos os passivos onerosos, constituídos por saldos de empréstimos, de financiamentos e outros instrumentos financeiros similares, de curto ou longo prazos, deduzidos do Caixa e Equivalentes de Caixa. Estes dados devem ser obtidos das demonstrações financeiras publicadas pela concessionária, em data prévia mais próxima ao último dia útil do ano imediatamente anterior à RTP em processamento.\n",
        "\n",
        "### Fonte\n",
        "As informações para o cálculo da Estrutura de Capital podem ser acessadas pelo site:\n",
        "\n",
        "https://www.caesb.df.gov.br/empresa/governanca-corporativa/balancos-e-relatorios/demonstracoes-financeiras.html"
      ]
    },
    {
      "cell_type": "markdown",
      "source": [
        "## Cálculo da Estrutura de Capital regulatória\n",
        "A estrutura de capital regulatória é composta das seguintes partes:\n",
        "* Participação de capital próprio $W_e$\n",
        "  $$ W_e = \\frac{CP}{CP + CT} $$\n",
        "* Participação de capital de terceiros $W_d$\n",
        "$$ W_d = \\frac{CT}{CP+CT}$$\n",
        "\n",
        "onde\n",
        "\n",
        "$CP$ representa o capital próprio da empresa, que para fins de cálculo será utilizado a média dos últimos 4 exercícios do Patrimônio líquido da CAESB.\n",
        "\n",
        "e\n",
        "\n",
        "$CT$ reprenseta o capital de terceiro, que para fins de cálcula será utilizado a média dos últimos 4 exercícios da soma de todos os passivos onerosos.\n",
        "\n",
        "**Estutura de Capital da Caesb**\n",
        "https://docs.google.com/spreadsheets/d/1RaLNFrfwvvBrScjbEhH2jo_DC_1J7YJR05eP5U_OvXI/edit#gid=0&range=B9:F14"
      ],
      "metadata": {
        "id": "IfhK81jKYwBx"
      }
    },
    {
      "cell_type": "code",
      "source": [
        "from google.colab import auth\n",
        "auth.authenticate_user()\n",
        "\n",
        "import gspread\n",
        "from oauth2client.client import GoogleCredentials\n",
        "\n",
        "gc = gspread.authorize(GoogleCredentials.get_application_default())\n",
        "\n",
        "worksheet = gc.open('Estrutura de Capital da Caesb').sheet1\n",
        "\n",
        "# get_all_values gives a list of rows.\n",
        "rows = worksheet.get_all_values()\n",
        "print(rows)\n",
        "\n",
        "estrutura_caesb = pd.DataFrame.from_records(rows, index = [0])\n",
        "estrutura_caesb.columns = estrutura_caesb.iloc[0]\n",
        "estrutura_caesb = estrutura_caesb.iloc[1:,1:]\n"
      ],
      "metadata": {
        "id": "0UeHDdSnf1HQ",
        "colab": {
          "base_uri": "https://localhost:8080/"
        },
        "outputId": "fe29649a-d53c-420b-8e6d-b62d699ab1b2"
      },
      "execution_count": 4,
      "outputs": [
        {
          "output_type": "stream",
          "name": "stdout",
          "text": [
            "[['Descricao', '2019', '2018', '2017', '2016'], ['Emprestimos e financiamentos - curto prazo', '203072', '235816', '219483', '139127'], ['Emprestimos e financiamentos - longo prazo', '704029', '582600', '411862', '459976'], ['Caixa e equivalentes', '311278', '190866', '143004', '84482'], ['Divida Liquida', '595823', '627550', '488341', '514621'], ['Patrimonio Liquido', '1404805', '1244028', '1421598', '1283175']]\n"
          ]
        }
      ]
    },
    {
      "cell_type": "code",
      "source": [
        "divida_liq = np.array(estrutura_caesb[3:4][[\"2019\",\"2018\",\"2017\",\"2016\"]],\n",
        "                      dtype=int)\n",
        "patrimonio_liq = np.array(estrutura_caesb[4:5][[\"2019\",\"2018\",\"2017\",\"2016\"]],\n",
        "                          dtype=int)\n",
        "\n",
        "cap_proprio = patrimonio_liq/(patrimonio_liq + divida_liq)\n",
        "media_cap_prop = cap_proprio.mean()\n",
        "\n",
        "cap_terceiros = divida_liq/(patrimonio_liq + divida_liq)\n",
        "media_cap_terc = cap_terceiros.mean()"
      ],
      "metadata": {
        "id": "vkq0WQPDL6sZ"
      },
      "execution_count": 5,
      "outputs": []
    },
    {
      "cell_type": "markdown",
      "source": [
        "## Custo de Capital\n",
        "\n",
        "Para o cálculo do custo de capital, será utilizado o método *Weighted Average Cost of Capital* (WACC), que considera a média ponderada dos custos do capital próprio e do capital de terceiros, conforme apresentado na fórmula a seguir:\n",
        "\n",
        "$$ WACC = K_{er} \\times W_{e} + K_d(1 - imp)W_{d} $$\n",
        "\n",
        "onde\n",
        "\n",
        "$WACC$: Custo Médio Ponderado de Capital\n",
        "\n",
        "$K_{er}$: custo do capital próprio;\n",
        "\n",
        "$W_e$: participação do capital próprio;\n",
        "\n",
        "$K_d$: custo do capital de terceiros;\n",
        "\n",
        "$imp$: soma das alíquotas dos impostos incidentes sobre o lucro líquido das\n",
        "empresas (9%);\n",
        "\n",
        "$W_d$: participação do capital de terceiros."
      ],
      "metadata": {
        "id": "s6dqHau-oXCp"
      }
    },
    {
      "cell_type": "markdown",
      "metadata": {
        "id": "vy4hoPPLzAQy"
      },
      "source": [
        "### Custo do Capital Próprio\n",
        "\n",
        "Modelo de precificação de ativos financeiros (CAPM)\n",
        "\n",
        "$$ K_{er} = rf + \\beta(E(r_m)_r - rf) + \\alpha_{BR}$$\n",
        "\n",
        "Sendo:\n",
        "\n",
        "$K_{er} := $ custo de capital próprio;\n",
        "\n",
        "$E(r_m)_r := $ retorno do mercado descontado a inflação;\n",
        "\n",
        "$\\beta := $ coeficiente de risco sistemático;\n",
        "\n",
        "$rf := $ taxa livre de risco;\n",
        "\n",
        "$\\alpha_{BR} :=$ Risco-País do Brasil\n"
      ]
    },
    {
      "cell_type": "markdown",
      "metadata": {
        "id": "dJXI4CLn6xEy"
      },
      "source": [
        "#### Taxa Livre de Risco\n",
        "A taxa livre de risco (rf) será resultado da média aritmética simples dos \n",
        "rendimentos correntes mensais de mercado (*current market yields*) dos títulos do governo \n",
        "americano (*10-Year Treasury Inflation-Indexed Security, Constant Maturity - DFII10*), \n",
        "de maturidade de 10 anos, indexados à inflação, divulgado pelo Federal Reserve (Banco \n",
        "Central dos Estados Unidos da América). \n",
        "Para o cálculo da média, devem ser utilizados os rendimentos dos últimos 180 \n",
        "meses, a contar do último dia útil do ano anterior à RTP em processamento. \n",
        "\n",
        "Fonte: Federal Reserve\n"
      ]
    },
    {
      "cell_type": "code",
      "source": [
        "data_inicio = '2005-01-01'\n",
        "data_final = '2019-12-31'"
      ],
      "metadata": {
        "id": "7XWAZmCt2pU9"
      },
      "execution_count": 6,
      "outputs": []
    },
    {
      "cell_type": "code",
      "source": [
        "DFII10 = web.DataReader('DFII10', 'fred', start = data_inicio, end = data_final)"
      ],
      "metadata": {
        "id": "M3oG9HB1MPz2"
      },
      "execution_count": 7,
      "outputs": []
    },
    {
      "cell_type": "code",
      "source": [
        "DFII10 = DFII10.resample('M').mean()"
      ],
      "metadata": {
        "id": "fBImTxzK4-th"
      },
      "execution_count": 8,
      "outputs": []
    },
    {
      "cell_type": "code",
      "source": [
        "TX_livre_risco = np.array(DFII10).mean()/100"
      ],
      "metadata": {
        "id": "vtDnCInONioX"
      },
      "execution_count": 9,
      "outputs": []
    },
    {
      "cell_type": "markdown",
      "source": [
        "#### Retorno do Mercado\n",
        "Para obter o retorno real do mercado, desconta-se o efeito da inflação por meio da seguinte fórmula:\n",
        "\n",
        "$$E(r_m)_r = \\frac{1+E(r_m)_n}{1+i} - 1 $$\n",
        "\n",
        "Sendo:\n",
        "\n",
        "$E(r_m)_r$: retorno do mercado descontada a inflação;\n",
        "\n",
        "$E(r_m)_n$: retorno nominal do mercado;\n",
        "\n",
        "$i$: inflação anual média do período"
      ],
      "metadata": {
        "id": "0W2Fi-DS1kxd"
      }
    },
    {
      "cell_type": "markdown",
      "source": [
        "##### Retorno Nominal do Mercado\n",
        "\n",
        "A taxa de retorno de mercado nominal deve ser obtida por meio da seguinte\n",
        "fórmula:\n",
        "\n",
        "$$E(r_m)_n = \\left(\\frac{Pm_t}{Pm_{t-10}}\\right)^\\frac{1}{10} - 1 $$\n",
        "\n",
        "Sendo:\n",
        "\n",
        "$Pm_t$: Preço (cotação) do índice de mercado *S&P 500* no último dia útil do ano $t$\n",
        "\n",
        "$t$:ano imediatamente anterior à RTP em processamento"
      ],
      "metadata": {
        "id": "idoiCaFb4PkN"
      }
    },
    {
      "cell_type": "code",
      "source": [
        "data_inicio = \"2009-12-31\"\n",
        "data_final = \"2020-01-01\"\n",
        "\n",
        "SP500 = yf.Ticker(\"^GSPC\").history(start=data_inicio, end=data_final)"
      ],
      "metadata": {
        "id": "6225eOoT9039"
      },
      "execution_count": 10,
      "outputs": []
    },
    {
      "cell_type": "code",
      "source": [
        "retorno_nominal = (SP500['Close'][-1] / SP500['Close'][0]) ** (1/10) - 1"
      ],
      "metadata": {
        "id": "z7smaLqtHrAO"
      },
      "execution_count": 11,
      "outputs": []
    },
    {
      "cell_type": "markdown",
      "source": [
        "##### Variação da Inflação\n",
        "\n",
        "A taxa de inflação anual média (i) do período será a média anual do índice CPI (*Consumers Price Index*) para o período de 120 meses anteriores ao último dia útil do ano anterior à RTP em processamento, a qual será obtida por meio da seguinte fórmula:\n",
        "\n",
        "$$ i=\\left(\\frac{CPI_t}{CPI_{t-10}}\\right)^\\frac{1}{10} - 1$$\n",
        "\n",
        "Sendo:\n",
        "\n",
        "$CPI_t$: valor do índice que mede a inflação dos EUA (CPI), no último dia útil do ano imediatamente anterior à RTP em processamento;\n",
        "\n",
        "$t$: ano imediatamente anterior à RTP em processamento."
      ],
      "metadata": {
        "id": "yyn_o0lnQ0e8"
      }
    },
    {
      "cell_type": "code",
      "source": [
        "data_inicio = '2009-12-01'\n",
        "data_final = '2019-12-31'\n",
        "CPI_US = web.DataReader('CPIAUCSL', 'fred', start = data_inicio, end = data_final)"
      ],
      "metadata": {
        "id": "rG-xLKKlQUTT"
      },
      "execution_count": 12,
      "outputs": []
    },
    {
      "cell_type": "code",
      "source": [
        "inflacao10 = (CPI_US['CPIAUCSL'][-1] / CPI_US['CPIAUCSL'][0]) ** (1/10) - 1"
      ],
      "metadata": {
        "id": "7sYTCXFEQ7fz"
      },
      "execution_count": 13,
      "outputs": []
    },
    {
      "cell_type": "markdown",
      "source": [
        "##### Retorno Real do Mercado"
      ],
      "metadata": {
        "id": "Rnj3X4yASUTm"
      }
    },
    {
      "cell_type": "code",
      "source": [
        "retorno_real = (retorno_nominal + 1) / (inflacao10 + 1) - 1"
      ],
      "metadata": {
        "id": "PwMqmz5USY3u"
      },
      "execution_count": 14,
      "outputs": []
    },
    {
      "cell_type": "markdown",
      "source": [
        "#### Coeficiente Beta ($β$)\n",
        "\n",
        "O coeficiente beta ($β$) é uma medida de risco sistemático, o qual considera a variação do valor de um ativo em relação à variação do mercado, obtido por meio da seguinte fórmula:\n",
        "\n",
        "$$ β = \\frac{Cov(Rm_d;Ra_d)}{Var(Rm_d)}$$\n",
        "\n",
        "sendo,\n",
        "\n",
        "$Rm_d$: Retorno diário logarítmico do mercado (*S&P500*);\n",
        "\n",
        "$𝑅𝑎_d$: Retorno diário logarítmico da ação da empresa; \n",
        "\n",
        "$𝑃𝑎_d$: Preço da ação no dia d; \n",
        "\n",
        "$Pa_{d-1}$: Preço da ação no dia d-1;\n",
        "\n",
        "$d$: dia atual, variando entre os últimos 120 meses, a contar do último dia do \n",
        "ano anterior à RTP em processamento; \n",
        "\n",
        "$d-1$: dia imediatamente anterior ao dia atual.\n",
        "\n",
        "**Seleção das empresas para o cálculo do Coeficiente Beta (β)** \n",
        "\n",
        "Para o cálculo do Coeficiente Beta (β) serão consideradas as empresas listadas nas bolsas norte-americanas NYSE (New York Stock Exchange) e Nasdaq, que prestam serviços de abastecimento de água e de esgotamento sanitário nos Estados Unidos da América. Segue abaixo a lista de empresas selecionadas:\n",
        "\n",
        "1. American States Water Company (NYSE:AWR)\n",
        "2. American Water Works Company, Inc. (NYSE:AWK)\n",
        "3. Artesian Resources Corporation, Inc. (NasdaqGS:ARTN.A)\n",
        "4. California Water Service Group (NYSE:CWT)\n",
        "5. Middlesex Water Company (NasdaqGS:MSEX)\n",
        "6. New England Service Company, Inc. (OTCPK:NESW)\n",
        "7. The York Water Company (NasdaqGS:YORW)"
      ],
      "metadata": {
        "id": "G89TCq_bA60s"
      }
    },
    {
      "cell_type": "code",
      "source": [
        "sp500_close = SP500['Close']\n",
        "log_retorno_sp500 = np.log(sp500_close / sp500_close.shift())"
      ],
      "metadata": {
        "id": "faDcpf9wQ4tM"
      },
      "execution_count": 15,
      "outputs": []
    },
    {
      "cell_type": "code",
      "source": [
        "inicio = \"2009-12-31\"\n",
        "fim = \"2020-01-01\""
      ],
      "metadata": {
        "id": "UwtjURl4X7xx"
      },
      "execution_count": 16,
      "outputs": []
    },
    {
      "cell_type": "markdown",
      "source": [
        "##### American States Water Company - NYSE:AWR"
      ],
      "metadata": {
        "id": "DbvFVHh7Hgcc"
      }
    },
    {
      "cell_type": "code",
      "source": [
        "AWR = yf.Ticker(\"AWR\").history(start=inicio, end=fim)\n",
        "AWR = AWR['Close']\n",
        "log_retorno = np.log(AWR/AWR.shift())"
      ],
      "metadata": {
        "id": "gGQuXYrQHseC"
      },
      "execution_count": 17,
      "outputs": []
    },
    {
      "cell_type": "code",
      "source": [
        "X = np.array(log_retorno_sp500[1:]).reshape(-1, 1)\n",
        "Y = np.array(log_retorno[1:]).reshape(-1, 1)\n",
        "\n",
        "model = LinearRegression().fit(X, Y)\n",
        "beta_AWR = model.coef_"
      ],
      "metadata": {
        "id": "5vReV7cSJVjT"
      },
      "execution_count": 18,
      "outputs": []
    },
    {
      "cell_type": "markdown",
      "source": [
        "##### American Water Works Company, Inc - NYSE:AWK"
      ],
      "metadata": {
        "id": "HIkOYoFcWhXs"
      }
    },
    {
      "cell_type": "code",
      "source": [
        "AWK = yf.Ticker(\"AWK\").history(start=inicio, end=fim)\n",
        "AWK = AWK['Close']\n",
        "log_retorno = np.log(AWK/AWK.shift())"
      ],
      "metadata": {
        "id": "Y3Srz7wTWzv2"
      },
      "execution_count": 19,
      "outputs": []
    },
    {
      "cell_type": "code",
      "source": [
        "Y = np.array(log_retorno[1:]).reshape(-1,1)\n",
        "\n",
        "model = LinearRegression().fit(X, Y)\n",
        "beta_AWK = model.coef_"
      ],
      "metadata": {
        "id": "F9CGsspRYpMq"
      },
      "execution_count": 20,
      "outputs": []
    },
    {
      "cell_type": "markdown",
      "source": [
        "##### Artesian Resources Corporation, Inc - NASDAQ:ARTN.A"
      ],
      "metadata": {
        "id": "d2rHgTF2bXhm"
      }
    },
    {
      "cell_type": "code",
      "source": [
        "ARTNA = yf.Ticker(\"ARTNA\").history(start=inicio, end=fim)\n",
        "ARTNA = ARTNA['Close']\n",
        "log_retorno = np.log(ARTNA/ARTNA.shift())"
      ],
      "metadata": {
        "id": "FynlXpMnbteV"
      },
      "execution_count": 21,
      "outputs": []
    },
    {
      "cell_type": "code",
      "source": [
        "Y = np.array(log_retorno[1:]).reshape(-1,1)\n",
        "\n",
        "model = LinearRegression().fit(X,Y)\n",
        "beta_ARTNA = model.coef_"
      ],
      "metadata": {
        "id": "8KaAaznDcPLk"
      },
      "execution_count": 22,
      "outputs": []
    },
    {
      "cell_type": "markdown",
      "source": [
        "##### California Water Service Group - NYSE:CWT"
      ],
      "metadata": {
        "id": "WPFpiCcUd0Kk"
      }
    },
    {
      "cell_type": "code",
      "source": [
        "CWT = yf.Ticker(\"CWT\").history(start=inicio, end=fim)\n",
        "CWT = CWT['Close']\n",
        "log_retorno = np.log(CWT/CWT.shift())"
      ],
      "metadata": {
        "id": "Ob37c-Gqd8-S"
      },
      "execution_count": 23,
      "outputs": []
    },
    {
      "cell_type": "code",
      "source": [
        "Y = np.array(log_retorno[1:]).reshape(-1,1)\n",
        "\n",
        "model = LinearRegression().fit(X,Y)\n",
        "beta_CWT = model.coef_"
      ],
      "metadata": {
        "id": "1xieV82VeZMY"
      },
      "execution_count": 24,
      "outputs": []
    },
    {
      "cell_type": "markdown",
      "source": [
        "##### Middlesex Water Company - NasdaqGS:MSEX"
      ],
      "metadata": {
        "id": "1XoQgvNGezSd"
      }
    },
    {
      "cell_type": "code",
      "source": [
        "MSEX = yf.Ticker(\"MSEX\").history(start=inicio, end=fim)\n",
        "MSEX = MSEX['Close']\n",
        "log_retorno = np.log(MSEX/MSEX.shift())"
      ],
      "metadata": {
        "id": "CHiI7q3ce2pU"
      },
      "execution_count": 25,
      "outputs": []
    },
    {
      "cell_type": "code",
      "source": [
        "Y = np.array(log_retorno[1:]).reshape(-1,1)\n",
        "\n",
        "model = LinearRegression().fit(X,Y)\n",
        "beta_MSEX = model.coef_"
      ],
      "metadata": {
        "id": "fxLxsKKggzQ9"
      },
      "execution_count": 26,
      "outputs": []
    },
    {
      "cell_type": "markdown",
      "source": [
        "##### New England Service Company, Inc. - OTCPK:NESW"
      ],
      "metadata": {
        "id": "IKbaHoBViPtG"
      }
    },
    {
      "cell_type": "code",
      "source": [
        "SJW = yf.Ticker(\"SJW\").history(start=inicio, end=fim)\n",
        "SJW = SJW['Close']\n",
        "log_retorno = np.log(SJW/SJW.shift())"
      ],
      "metadata": {
        "id": "siLiqz_ZiQnV"
      },
      "execution_count": 27,
      "outputs": []
    },
    {
      "cell_type": "code",
      "source": [
        "Y = np.array(log_retorno[1:]).reshape(-1,1)\n",
        "\n",
        "model = LinearRegression().fit(X,Y)\n",
        "beta_SJW = model.coef_"
      ],
      "metadata": {
        "id": "eGLwwKr-j0Ed"
      },
      "execution_count": 28,
      "outputs": []
    },
    {
      "cell_type": "markdown",
      "source": [
        "##### The York Water Company (NasdaqGS:YORW)"
      ],
      "metadata": {
        "id": "3dU-ysYbkPVl"
      }
    },
    {
      "cell_type": "code",
      "source": [
        "YORW = yf.Ticker(\"YORW\").history(start=inicio, end=fim)\n",
        "YORW = YORW['Close']\n",
        "log_retorno = np.log(YORW/YORW.shift())"
      ],
      "metadata": {
        "id": "LzhQjR7BkSJI"
      },
      "execution_count": 29,
      "outputs": []
    },
    {
      "cell_type": "code",
      "source": [
        "Y = np.array(log_retorno[1:]).reshape(-1,1)\n",
        "\n",
        "model = LinearRegression().fit(X,Y)\n",
        "beta_YORW = model.coef_"
      ],
      "metadata": {
        "id": "HnvRDjXHko_S"
      },
      "execution_count": 30,
      "outputs": []
    },
    {
      "cell_type": "markdown",
      "source": [
        "##### Cálculo do Beta\n",
        "\n",
        "Calcular o β médio, por meio da média aritmética simples dos betas de cada empresa."
      ],
      "metadata": {
        "id": "FLuBzSeElS-a"
      }
    },
    {
      "cell_type": "code",
      "source": [
        "beta = np.array([beta_AWR, beta_AWK, beta_ARTNA, beta_CWT, beta_MSEX, beta_SJW, beta_YORW])\n",
        "beta_medio = beta.mean()"
      ],
      "metadata": {
        "id": "SJDFlYTXlYgw"
      },
      "execution_count": 31,
      "outputs": []
    },
    {
      "cell_type": "markdown",
      "source": [
        "#### Prêmio de Risco País\n",
        "\n",
        "O prêmio de risco país adotado será obtido pela média aritmética do valor diário do índice EMBI+Brasil.\n",
        "\n",
        "Diponibilizado pelo IPEA e calculado pelo JP Morgan.\n",
        "\n",
        "Deverá ser adotada a série histórica dos últimos 180 meses, a contar do último dia útil do ano anterior à RTP em processamento. \n"
      ],
      "metadata": {
        "id": "XwUfgINlUSBY"
      }
    },
    {
      "cell_type": "code",
      "source": [
        "ipea_data = ipea.list_series()\n",
        "ipea_data[ipea_data.NAME == 'EMBI + Risco-Brasil']"
      ],
      "metadata": {
        "id": "yN6VgBaCURko",
        "colab": {
          "base_uri": "https://localhost:8080/",
          "height": 81
        },
        "outputId": "b57a98f0-4d63-4374-c76e-3a206894aa1d"
      },
      "execution_count": 32,
      "outputs": [
        {
          "output_type": "execute_result",
          "data": {
            "text/html": [
              "\n",
              "  <div id=\"df-993bc4fc-b395-449f-9099-ab7af84982de\">\n",
              "    <div class=\"colab-df-container\">\n",
              "      <div>\n",
              "<style scoped>\n",
              "    .dataframe tbody tr th:only-of-type {\n",
              "        vertical-align: middle;\n",
              "    }\n",
              "\n",
              "    .dataframe tbody tr th {\n",
              "        vertical-align: top;\n",
              "    }\n",
              "\n",
              "    .dataframe thead th {\n",
              "        text-align: right;\n",
              "    }\n",
              "</style>\n",
              "<table border=\"1\" class=\"dataframe\">\n",
              "  <thead>\n",
              "    <tr style=\"text-align: right;\">\n",
              "      <th></th>\n",
              "      <th>CODE</th>\n",
              "      <th>NAME</th>\n",
              "    </tr>\n",
              "  </thead>\n",
              "  <tbody>\n",
              "    <tr>\n",
              "      <th>8000</th>\n",
              "      <td>JPM366_EMBI366</td>\n",
              "      <td>EMBI + Risco-Brasil</td>\n",
              "    </tr>\n",
              "  </tbody>\n",
              "</table>\n",
              "</div>\n",
              "      <button class=\"colab-df-convert\" onclick=\"convertToInteractive('df-993bc4fc-b395-449f-9099-ab7af84982de')\"\n",
              "              title=\"Convert this dataframe to an interactive table.\"\n",
              "              style=\"display:none;\">\n",
              "        \n",
              "  <svg xmlns=\"http://www.w3.org/2000/svg\" height=\"24px\"viewBox=\"0 0 24 24\"\n",
              "       width=\"24px\">\n",
              "    <path d=\"M0 0h24v24H0V0z\" fill=\"none\"/>\n",
              "    <path d=\"M18.56 5.44l.94 2.06.94-2.06 2.06-.94-2.06-.94-.94-2.06-.94 2.06-2.06.94zm-11 1L8.5 8.5l.94-2.06 2.06-.94-2.06-.94L8.5 2.5l-.94 2.06-2.06.94zm10 10l.94 2.06.94-2.06 2.06-.94-2.06-.94-.94-2.06-.94 2.06-2.06.94z\"/><path d=\"M17.41 7.96l-1.37-1.37c-.4-.4-.92-.59-1.43-.59-.52 0-1.04.2-1.43.59L10.3 9.45l-7.72 7.72c-.78.78-.78 2.05 0 2.83L4 21.41c.39.39.9.59 1.41.59.51 0 1.02-.2 1.41-.59l7.78-7.78 2.81-2.81c.8-.78.8-2.07 0-2.86zM5.41 20L4 18.59l7.72-7.72 1.47 1.35L5.41 20z\"/>\n",
              "  </svg>\n",
              "      </button>\n",
              "      \n",
              "  <style>\n",
              "    .colab-df-container {\n",
              "      display:flex;\n",
              "      flex-wrap:wrap;\n",
              "      gap: 12px;\n",
              "    }\n",
              "\n",
              "    .colab-df-convert {\n",
              "      background-color: #E8F0FE;\n",
              "      border: none;\n",
              "      border-radius: 50%;\n",
              "      cursor: pointer;\n",
              "      display: none;\n",
              "      fill: #1967D2;\n",
              "      height: 32px;\n",
              "      padding: 0 0 0 0;\n",
              "      width: 32px;\n",
              "    }\n",
              "\n",
              "    .colab-df-convert:hover {\n",
              "      background-color: #E2EBFA;\n",
              "      box-shadow: 0px 1px 2px rgba(60, 64, 67, 0.3), 0px 1px 3px 1px rgba(60, 64, 67, 0.15);\n",
              "      fill: #174EA6;\n",
              "    }\n",
              "\n",
              "    [theme=dark] .colab-df-convert {\n",
              "      background-color: #3B4455;\n",
              "      fill: #D2E3FC;\n",
              "    }\n",
              "\n",
              "    [theme=dark] .colab-df-convert:hover {\n",
              "      background-color: #434B5C;\n",
              "      box-shadow: 0px 1px 3px 1px rgba(0, 0, 0, 0.15);\n",
              "      filter: drop-shadow(0px 1px 2px rgba(0, 0, 0, 0.3));\n",
              "      fill: #FFFFFF;\n",
              "    }\n",
              "  </style>\n",
              "\n",
              "      <script>\n",
              "        const buttonEl =\n",
              "          document.querySelector('#df-993bc4fc-b395-449f-9099-ab7af84982de button.colab-df-convert');\n",
              "        buttonEl.style.display =\n",
              "          google.colab.kernel.accessAllowed ? 'block' : 'none';\n",
              "\n",
              "        async function convertToInteractive(key) {\n",
              "          const element = document.querySelector('#df-993bc4fc-b395-449f-9099-ab7af84982de');\n",
              "          const dataTable =\n",
              "            await google.colab.kernel.invokeFunction('convertToInteractive',\n",
              "                                                     [key], {});\n",
              "          if (!dataTable) return;\n",
              "\n",
              "          const docLinkHtml = 'Like what you see? Visit the ' +\n",
              "            '<a target=\"_blank\" href=https://colab.research.google.com/notebooks/data_table.ipynb>data table notebook</a>'\n",
              "            + ' to learn more about interactive tables.';\n",
              "          element.innerHTML = '';\n",
              "          dataTable['output_type'] = 'display_data';\n",
              "          await google.colab.output.renderOutput(dataTable, element);\n",
              "          const docLink = document.createElement('div');\n",
              "          docLink.innerHTML = docLinkHtml;\n",
              "          element.appendChild(docLink);\n",
              "        }\n",
              "      </script>\n",
              "    </div>\n",
              "  </div>\n",
              "  "
            ],
            "text/plain": [
              "                CODE                 NAME\n",
              "8000  JPM366_EMBI366  EMBI + Risco-Brasil"
            ]
          },
          "metadata": {},
          "execution_count": 32
        }
      ]
    },
    {
      "cell_type": "code",
      "source": [
        "data_inicio = '2004-12-31'\n",
        "data_final = '2019-12-31'\n",
        "\n",
        "risco_brasil = ipea.timeseries(\"JPM366_EMBI366\").dropna()\n",
        "risco_brasil = risco_brasil.loc[data_inicio:data_final]\n",
        "risco_brasil = np.array(risco_brasil['VALUE (-)']).mean()/10000"
      ],
      "metadata": {
        "id": "xaN63Ds8adJ5"
      },
      "execution_count": 33,
      "outputs": []
    },
    {
      "cell_type": "code",
      "source": [
        "ipea.timeseries('JPM366_EMBI366',   yearGreaterThan=2016, yearSmallerThan=2019)"
      ],
      "metadata": {
        "colab": {
          "base_uri": "https://localhost:8080/",
          "height": 455
        },
        "id": "3DvlyXqfM2zt",
        "outputId": "5da0b515-e88f-46e6-d500-5b1a97e0afb2"
      },
      "execution_count": 34,
      "outputs": [
        {
          "output_type": "execute_result",
          "data": {
            "text/html": [
              "\n",
              "  <div id=\"df-2920a4e0-e5f8-4a44-8aee-3dcf5f11bed1\">\n",
              "    <div class=\"colab-df-container\">\n",
              "      <div>\n",
              "<style scoped>\n",
              "    .dataframe tbody tr th:only-of-type {\n",
              "        vertical-align: middle;\n",
              "    }\n",
              "\n",
              "    .dataframe tbody tr th {\n",
              "        vertical-align: top;\n",
              "    }\n",
              "\n",
              "    .dataframe thead th {\n",
              "        text-align: right;\n",
              "    }\n",
              "</style>\n",
              "<table border=\"1\" class=\"dataframe\">\n",
              "  <thead>\n",
              "    <tr style=\"text-align: right;\">\n",
              "      <th></th>\n",
              "      <th>YEAR</th>\n",
              "      <th>DAY</th>\n",
              "      <th>MONTH</th>\n",
              "      <th>CODE</th>\n",
              "      <th>RAW DATE</th>\n",
              "      <th>VALUE (-)</th>\n",
              "    </tr>\n",
              "    <tr>\n",
              "      <th>DATE</th>\n",
              "      <th></th>\n",
              "      <th></th>\n",
              "      <th></th>\n",
              "      <th></th>\n",
              "      <th></th>\n",
              "      <th></th>\n",
              "    </tr>\n",
              "  </thead>\n",
              "  <tbody>\n",
              "    <tr>\n",
              "      <th>2017-01-02</th>\n",
              "      <td>2017</td>\n",
              "      <td>2</td>\n",
              "      <td>1</td>\n",
              "      <td>JPM366_EMBI366</td>\n",
              "      <td>2017-01-02T00:00:00-02:00</td>\n",
              "      <td>328.0</td>\n",
              "    </tr>\n",
              "    <tr>\n",
              "      <th>2017-01-03</th>\n",
              "      <td>2017</td>\n",
              "      <td>3</td>\n",
              "      <td>1</td>\n",
              "      <td>JPM366_EMBI366</td>\n",
              "      <td>2017-01-03T00:00:00-02:00</td>\n",
              "      <td>325.0</td>\n",
              "    </tr>\n",
              "    <tr>\n",
              "      <th>2017-01-04</th>\n",
              "      <td>2017</td>\n",
              "      <td>4</td>\n",
              "      <td>1</td>\n",
              "      <td>JPM366_EMBI366</td>\n",
              "      <td>2017-01-04T00:00:00-02:00</td>\n",
              "      <td>311.0</td>\n",
              "    </tr>\n",
              "    <tr>\n",
              "      <th>2017-01-05</th>\n",
              "      <td>2017</td>\n",
              "      <td>5</td>\n",
              "      <td>1</td>\n",
              "      <td>JPM366_EMBI366</td>\n",
              "      <td>2017-01-05T00:00:00-02:00</td>\n",
              "      <td>302.0</td>\n",
              "    </tr>\n",
              "    <tr>\n",
              "      <th>2017-01-06</th>\n",
              "      <td>2017</td>\n",
              "      <td>6</td>\n",
              "      <td>1</td>\n",
              "      <td>JPM366_EMBI366</td>\n",
              "      <td>2017-01-06T00:00:00-02:00</td>\n",
              "      <td>301.0</td>\n",
              "    </tr>\n",
              "    <tr>\n",
              "      <th>...</th>\n",
              "      <td>...</td>\n",
              "      <td>...</td>\n",
              "      <td>...</td>\n",
              "      <td>...</td>\n",
              "      <td>...</td>\n",
              "      <td>...</td>\n",
              "    </tr>\n",
              "    <tr>\n",
              "      <th>2018-12-24</th>\n",
              "      <td>2018</td>\n",
              "      <td>24</td>\n",
              "      <td>12</td>\n",
              "      <td>JPM366_EMBI366</td>\n",
              "      <td>2018-12-24T00:00:00-02:00</td>\n",
              "      <td>276.0</td>\n",
              "    </tr>\n",
              "    <tr>\n",
              "      <th>2018-12-26</th>\n",
              "      <td>2018</td>\n",
              "      <td>26</td>\n",
              "      <td>12</td>\n",
              "      <td>JPM366_EMBI366</td>\n",
              "      <td>2018-12-26T00:00:00-02:00</td>\n",
              "      <td>273.0</td>\n",
              "    </tr>\n",
              "    <tr>\n",
              "      <th>2018-12-27</th>\n",
              "      <td>2018</td>\n",
              "      <td>27</td>\n",
              "      <td>12</td>\n",
              "      <td>JPM366_EMBI366</td>\n",
              "      <td>2018-12-27T00:00:00-02:00</td>\n",
              "      <td>274.0</td>\n",
              "    </tr>\n",
              "    <tr>\n",
              "      <th>2018-12-28</th>\n",
              "      <td>2018</td>\n",
              "      <td>28</td>\n",
              "      <td>12</td>\n",
              "      <td>JPM366_EMBI366</td>\n",
              "      <td>2018-12-28T00:00:00-02:00</td>\n",
              "      <td>272.0</td>\n",
              "    </tr>\n",
              "    <tr>\n",
              "      <th>2018-12-31</th>\n",
              "      <td>2018</td>\n",
              "      <td>31</td>\n",
              "      <td>12</td>\n",
              "      <td>JPM366_EMBI366</td>\n",
              "      <td>2018-12-31T00:00:00-02:00</td>\n",
              "      <td>276.0</td>\n",
              "    </tr>\n",
              "  </tbody>\n",
              "</table>\n",
              "<p>515 rows × 6 columns</p>\n",
              "</div>\n",
              "      <button class=\"colab-df-convert\" onclick=\"convertToInteractive('df-2920a4e0-e5f8-4a44-8aee-3dcf5f11bed1')\"\n",
              "              title=\"Convert this dataframe to an interactive table.\"\n",
              "              style=\"display:none;\">\n",
              "        \n",
              "  <svg xmlns=\"http://www.w3.org/2000/svg\" height=\"24px\"viewBox=\"0 0 24 24\"\n",
              "       width=\"24px\">\n",
              "    <path d=\"M0 0h24v24H0V0z\" fill=\"none\"/>\n",
              "    <path d=\"M18.56 5.44l.94 2.06.94-2.06 2.06-.94-2.06-.94-.94-2.06-.94 2.06-2.06.94zm-11 1L8.5 8.5l.94-2.06 2.06-.94-2.06-.94L8.5 2.5l-.94 2.06-2.06.94zm10 10l.94 2.06.94-2.06 2.06-.94-2.06-.94-.94-2.06-.94 2.06-2.06.94z\"/><path d=\"M17.41 7.96l-1.37-1.37c-.4-.4-.92-.59-1.43-.59-.52 0-1.04.2-1.43.59L10.3 9.45l-7.72 7.72c-.78.78-.78 2.05 0 2.83L4 21.41c.39.39.9.59 1.41.59.51 0 1.02-.2 1.41-.59l7.78-7.78 2.81-2.81c.8-.78.8-2.07 0-2.86zM5.41 20L4 18.59l7.72-7.72 1.47 1.35L5.41 20z\"/>\n",
              "  </svg>\n",
              "      </button>\n",
              "      \n",
              "  <style>\n",
              "    .colab-df-container {\n",
              "      display:flex;\n",
              "      flex-wrap:wrap;\n",
              "      gap: 12px;\n",
              "    }\n",
              "\n",
              "    .colab-df-convert {\n",
              "      background-color: #E8F0FE;\n",
              "      border: none;\n",
              "      border-radius: 50%;\n",
              "      cursor: pointer;\n",
              "      display: none;\n",
              "      fill: #1967D2;\n",
              "      height: 32px;\n",
              "      padding: 0 0 0 0;\n",
              "      width: 32px;\n",
              "    }\n",
              "\n",
              "    .colab-df-convert:hover {\n",
              "      background-color: #E2EBFA;\n",
              "      box-shadow: 0px 1px 2px rgba(60, 64, 67, 0.3), 0px 1px 3px 1px rgba(60, 64, 67, 0.15);\n",
              "      fill: #174EA6;\n",
              "    }\n",
              "\n",
              "    [theme=dark] .colab-df-convert {\n",
              "      background-color: #3B4455;\n",
              "      fill: #D2E3FC;\n",
              "    }\n",
              "\n",
              "    [theme=dark] .colab-df-convert:hover {\n",
              "      background-color: #434B5C;\n",
              "      box-shadow: 0px 1px 3px 1px rgba(0, 0, 0, 0.15);\n",
              "      filter: drop-shadow(0px 1px 2px rgba(0, 0, 0, 0.3));\n",
              "      fill: #FFFFFF;\n",
              "    }\n",
              "  </style>\n",
              "\n",
              "      <script>\n",
              "        const buttonEl =\n",
              "          document.querySelector('#df-2920a4e0-e5f8-4a44-8aee-3dcf5f11bed1 button.colab-df-convert');\n",
              "        buttonEl.style.display =\n",
              "          google.colab.kernel.accessAllowed ? 'block' : 'none';\n",
              "\n",
              "        async function convertToInteractive(key) {\n",
              "          const element = document.querySelector('#df-2920a4e0-e5f8-4a44-8aee-3dcf5f11bed1');\n",
              "          const dataTable =\n",
              "            await google.colab.kernel.invokeFunction('convertToInteractive',\n",
              "                                                     [key], {});\n",
              "          if (!dataTable) return;\n",
              "\n",
              "          const docLinkHtml = 'Like what you see? Visit the ' +\n",
              "            '<a target=\"_blank\" href=https://colab.research.google.com/notebooks/data_table.ipynb>data table notebook</a>'\n",
              "            + ' to learn more about interactive tables.';\n",
              "          element.innerHTML = '';\n",
              "          dataTable['output_type'] = 'display_data';\n",
              "          await google.colab.output.renderOutput(dataTable, element);\n",
              "          const docLink = document.createElement('div');\n",
              "          docLink.innerHTML = docLinkHtml;\n",
              "          element.appendChild(docLink);\n",
              "        }\n",
              "      </script>\n",
              "    </div>\n",
              "  </div>\n",
              "  "
            ],
            "text/plain": [
              "            YEAR  DAY  MONTH            CODE                   RAW DATE  \\\n",
              "DATE                                                                      \n",
              "2017-01-02  2017    2      1  JPM366_EMBI366  2017-01-02T00:00:00-02:00   \n",
              "2017-01-03  2017    3      1  JPM366_EMBI366  2017-01-03T00:00:00-02:00   \n",
              "2017-01-04  2017    4      1  JPM366_EMBI366  2017-01-04T00:00:00-02:00   \n",
              "2017-01-05  2017    5      1  JPM366_EMBI366  2017-01-05T00:00:00-02:00   \n",
              "2017-01-06  2017    6      1  JPM366_EMBI366  2017-01-06T00:00:00-02:00   \n",
              "...          ...  ...    ...             ...                        ...   \n",
              "2018-12-24  2018   24     12  JPM366_EMBI366  2018-12-24T00:00:00-02:00   \n",
              "2018-12-26  2018   26     12  JPM366_EMBI366  2018-12-26T00:00:00-02:00   \n",
              "2018-12-27  2018   27     12  JPM366_EMBI366  2018-12-27T00:00:00-02:00   \n",
              "2018-12-28  2018   28     12  JPM366_EMBI366  2018-12-28T00:00:00-02:00   \n",
              "2018-12-31  2018   31     12  JPM366_EMBI366  2018-12-31T00:00:00-02:00   \n",
              "\n",
              "            VALUE (-)  \n",
              "DATE                   \n",
              "2017-01-02      328.0  \n",
              "2017-01-03      325.0  \n",
              "2017-01-04      311.0  \n",
              "2017-01-05      302.0  \n",
              "2017-01-06      301.0  \n",
              "...               ...  \n",
              "2018-12-24      276.0  \n",
              "2018-12-26      273.0  \n",
              "2018-12-27      274.0  \n",
              "2018-12-28      272.0  \n",
              "2018-12-31      276.0  \n",
              "\n",
              "[515 rows x 6 columns]"
            ]
          },
          "metadata": {},
          "execution_count": 34
        }
      ]
    },
    {
      "cell_type": "markdown",
      "source": [
        "#### Cálculo do Custo de Capital Próprio"
      ],
      "metadata": {
        "id": "p_8XyUoxZSMT"
      }
    },
    {
      "cell_type": "code",
      "source": [
        "custo_cap_prop = TX_livre_risco + beta_medio*(retorno_real - TX_livre_risco) + risco_brasil"
      ],
      "metadata": {
        "id": "FhTPv8Kgqr5M"
      },
      "execution_count": 35,
      "outputs": []
    },
    {
      "cell_type": "markdown",
      "source": [
        "### Custo Capital de Terceiros\n",
        "\n",
        "O Custo de Capital de Terceiros (Kd) é a média histórica da parcela de juros\n",
        "real da Taxa de Juros de Longo Prazo (TJLP), dos últimos 240 meses, a contar do último dia útil do ano anterior à RTP em processamento."
      ],
      "metadata": {
        "id": "-kxu30z0qLKr"
      }
    },
    {
      "cell_type": "code",
      "source": [
        "from numpy.core.arrayprint import dtype_is_implied\n",
        "worksheet = gc.open('TJLP').sheet1\n",
        "\n",
        "rows = worksheet.get_all_values()\n",
        "print(rows)\n",
        "\n",
        "TJLP = pd.DataFrame.from_records(rows, index=[0], coerce_float=True)\n",
        "TJLP.columns = TJLP.iloc[0]\n",
        "TJLP = TJLP.iloc[1:-1,1:]\n",
        "custo_cap_terc = np.array(TJLP['256 - Taxa de juros de longo prazo - TJLP - % a.a.'],\n",
        "                          dtype=float).mean()/100"
      ],
      "metadata": {
        "id": "PtPdLNsaZ5_Q",
        "colab": {
          "base_uri": "https://localhost:8080/"
        },
        "outputId": "7da29c1b-609d-4b3b-9689-a7b4ef997daa"
      },
      "execution_count": 36,
      "outputs": [
        {
          "output_type": "stream",
          "name": "stdout",
          "text": [
            "[['Data', '256 - Taxa de juros de longo prazo - TJLP - % a.a.'], ['01/2000', '12'], ['02/2000', '12'], ['03/2000', '12'], ['04/2000', '11'], ['05/2000', '11'], ['06/2000', '11'], ['07/2000', '10.25'], ['08/2000', '10.25'], ['09/2000', '10.25'], ['10/2000', '9.75'], ['11/2000', '9.75'], ['12/2000', '9.75'], ['01/2001', '9.25'], ['02/2001', '9.25'], ['03/2001', '9.25'], ['04/2001', '9.25'], ['05/2001', '9.25'], ['06/2001', '9.25'], ['07/2001', '9.5'], ['08/2001', '9.5'], ['09/2001', '9.5'], ['10/2001', '10'], ['11/2001', '10'], ['12/2001', '10'], ['01/2002', '10'], ['02/2002', '10'], ['03/2002', '10'], ['04/2002', '9.5'], ['05/2002', '9.5'], ['06/2002', '9.5'], ['07/2002', '10'], ['08/2002', '10'], ['09/2002', '10'], ['10/2002', '10'], ['11/2002', '10'], ['12/2002', '10'], ['01/2003', '11'], ['02/2003', '11'], ['03/2003', '11'], ['04/2003', '12'], ['05/2003', '12'], ['06/2003', '12'], ['07/2003', '12'], ['08/2003', '12'], ['09/2003', '12'], ['10/2003', '11'], ['11/2003', '11'], ['12/2003', '11'], ['01/2004', '10'], ['02/2004', '10'], ['03/2004', '10'], ['04/2004', '9.75'], ['05/2004', '9.75'], ['06/2004', '9.75'], ['07/2004', '9.75'], ['08/2004', '9.75'], ['09/2004', '9.75'], ['10/2004', '9.75'], ['11/2004', '9.75'], ['12/2004', '9.75'], ['01/2005', '9.75'], ['02/2005', '9.75'], ['03/2005', '9.75'], ['04/2005', '9.75'], ['05/2005', '9.75'], ['06/2005', '9.75'], ['07/2005', '9.75'], ['08/2005', '9.75'], ['09/2005', '9.75'], ['10/2005', '9.75'], ['11/2005', '9.75'], ['12/2005', '9.75'], ['01/2006', '9'], ['02/2006', '9'], ['03/2006', '9'], ['04/2006', '8.15'], ['05/2006', '8.15'], ['06/2006', '8.15'], ['07/2006', '7.5'], ['08/2006', '7.5'], ['09/2006', '7.5'], ['10/2006', '6.85'], ['11/2006', '6.85'], ['12/2006', '6.85'], ['01/2007', '6.5'], ['02/2007', '6.5'], ['03/2007', '6.5'], ['04/2007', '6.5'], ['05/2007', '6.5'], ['06/2007', '6.5'], ['07/2007', '6.25'], ['08/2007', '6.25'], ['09/2007', '6.25'], ['10/2007', '6.25'], ['11/2007', '6.25'], ['12/2007', '6.25'], ['01/2008', '6.25'], ['02/2008', '6.25'], ['03/2008', '6.25'], ['04/2008', '6.25'], ['05/2008', '6.25'], ['06/2008', '6.25'], ['07/2008', '6.25'], ['08/2008', '6.25'], ['09/2008', '6.25'], ['10/2008', '6.25'], ['11/2008', '6.25'], ['12/2008', '6.25'], ['01/2009', '6.25'], ['02/2009', '6.25'], ['03/2009', '6.25'], ['04/2009', '6.25'], ['05/2009', '6.25'], ['06/2009', '6.25'], ['07/2009', '6'], ['08/2009', '6'], ['09/2009', '6'], ['10/2009', '6'], ['11/2009', '6'], ['12/2009', '6'], ['01/2010', '6'], ['02/2010', '6'], ['03/2010', '6'], ['04/2010', '6'], ['05/2010', '6'], ['06/2010', '6'], ['07/2010', '6'], ['08/2010', '6'], ['09/2010', '6'], ['10/2010', '6'], ['11/2010', '6'], ['12/2010', '6'], ['01/2011', '6'], ['02/2011', '6'], ['03/2011', '6'], ['04/2011', '6'], ['05/2011', '6'], ['06/2011', '6'], ['07/2011', '6'], ['08/2011', '6'], ['09/2011', '6'], ['10/2011', '6'], ['11/2011', '6'], ['12/2011', '6'], ['01/2012', '6'], ['02/2012', '6'], ['03/2012', '6'], ['04/2012', '6'], ['05/2012', '6'], ['06/2012', '6'], ['07/2012', '5.5'], ['08/2012', '5.5'], ['09/2012', '5.5'], ['10/2012', '5.5'], ['11/2012', '5.5'], ['12/2012', '5.5'], ['01/2013', '5'], ['02/2013', '5'], ['03/2013', '5'], ['04/2013', '5'], ['05/2013', '5'], ['06/2013', '5'], ['07/2013', '5'], ['08/2013', '5'], ['09/2013', '5'], ['10/2013', '5'], ['11/2013', '5'], ['12/2013', '5'], ['01/2014', '5'], ['02/2014', '5'], ['03/2014', '5'], ['04/2014', '5'], ['05/2014', '5'], ['06/2014', '5'], ['07/2014', '5'], ['08/2014', '5'], ['09/2014', '5'], ['10/2014', '5'], ['11/2014', '5'], ['12/2014', '5'], ['01/2015', '5.5'], ['02/2015', '5.5'], ['03/2015', '5.5'], ['04/2015', '6'], ['05/2015', '6'], ['06/2015', '6'], ['07/2015', '6.5'], ['08/2015', '6.5'], ['09/2015', '6.5'], ['10/2015', '7'], ['11/2015', '7'], ['12/2015', '7'], ['01/2016', '7.5'], ['02/2016', '7.5'], ['03/2016', '7.5'], ['04/2016', '7.5'], ['05/2016', '7.5'], ['06/2016', '7.5'], ['07/2016', '7.5'], ['08/2016', '7.5'], ['09/2016', '7.5'], ['10/2016', '7.5'], ['11/2016', '7.5'], ['12/2016', '7.5'], ['01/2017', '7.5'], ['02/2017', '7.5'], ['03/2017', '7.5'], ['04/2017', '7'], ['05/2017', '7'], ['06/2017', '7'], ['07/2017', '7'], ['08/2017', '7'], ['09/2017', '7'], ['10/2017', '7'], ['11/2017', '7'], ['12/2017', '7'], ['01/2018', '6.75'], ['02/2018', '6.75'], ['03/2018', '6.75'], ['04/2018', '6.6'], ['05/2018', '6.6'], ['06/2018', '6.6'], ['07/2018', '6.56'], ['08/2018', '6.56'], ['09/2018', '6.56'], ['10/2018', '6.98'], ['11/2018', '6.98'], ['12/2018', '6.98'], ['01/2019', '07.03'], ['02/2019', '07.03'], ['03/2019', '07.03'], ['04/2019', '6.26'], ['05/2019', '6.26'], ['06/2019', '6.26'], ['07/2019', '5.95'], ['08/2019', '5.95'], ['09/2019', '5.95'], ['10/2019', '5.57'], ['11/2019', '5.57'], ['12/2019', '5.57'], ['Fonte', 'BCB-Demab']]\n"
          ]
        }
      ]
    },
    {
      "cell_type": "markdown",
      "source": [
        "### Cálculo do Custo de Capital (WACC)"
      ],
      "metadata": {
        "id": "6g23fFS-YPHt"
      }
    },
    {
      "cell_type": "code",
      "source": [
        "wacc = custo_cap_prop * media_cap_prop + custo_cap_terc * (1 - 0.09) * media_cap_terc"
      ],
      "metadata": {
        "id": "R1Au1EUhgJWI"
      },
      "execution_count": 37,
      "outputs": []
    },
    {
      "cell_type": "code",
      "source": [
        "print(\"Taxa livre de Risco = {:.2%}\".format(TX_livre_risco))\n",
        "print(\"Retorno do mercado nominal = {:.2%}\".format(retorno_nominal))\n",
        "print(\"Inflação americana = {:.2%}\".format(inflacao10))\n",
        "print(\"Retorno do mercado Real = {:.2%}\".format(retorno_real))\n",
        "print(\"Beta = {:.2}\".format(beta_medio))\n",
        "print(\"Risco País = {:.2%}\".format(risco_brasil))\n",
        "\n",
        "print(\"Custo Capital Próprio (Real) = {:.2%}\".format(custo_cap_prop))\n",
        "print(\"Custo do Capital de Terceiros (Real) = {:.2%}\".format(custo_cap_terc))\n",
        "\n",
        "print(\"Parcela do capital próprio = {:.2%}\".format(media_cap_prop))\n",
        "print(\"Parcela do capital de terceiros = {:.2%}\".format(media_cap_terc))"
      ],
      "metadata": {
        "id": "-VLlNCyHsQEb",
        "colab": {
          "base_uri": "https://localhost:8080/"
        },
        "outputId": "d1338b3d-840a-4c33-e1fa-659251d98f89"
      },
      "execution_count": 38,
      "outputs": [
        {
          "output_type": "stream",
          "name": "stdout",
          "text": [
            "Taxa livre de Risco = 0.93%\n",
            "Retorno do mercado nominal = 11.22%\n",
            "Inflação americana = 1.74%\n",
            "Retorno do mercado Real = 9.32%\n",
            "Beta = 0.69\n",
            "Risco País = 2.63%\n",
            "Custo Capital Próprio (Real) = 9.37%\n",
            "Custo do Capital de Terceiros (Real) = 7.47%\n",
            "Parcela do capital próprio = 70.62%\n",
            "Parcela do capital de terceiros = 29.38%\n"
          ]
        }
      ]
    },
    {
      "cell_type": "code",
      "source": [
        "print(\"WACC = {:.2%}\".format(wacc))"
      ],
      "metadata": {
        "id": "gNWw77efn0nY",
        "colab": {
          "base_uri": "https://localhost:8080/"
        },
        "outputId": "3de6f524-c8ee-4782-d848-5cbde6311ef9"
      },
      "execution_count": 39,
      "outputs": [
        {
          "output_type": "stream",
          "name": "stdout",
          "text": [
            "WACC = 8.61%\n"
          ]
        }
      ]
    }
  ]
}